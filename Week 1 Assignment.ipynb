{
 "cells": [
  {
   "cell_type": "markdown",
   "id": "35c0b43e-9d51-4309-9fd8-ff39d663ea72",
   "metadata": {},
   "source": [
    "##### 1. Create a variable conatining following type of data :\n",
    "           a. string\n",
    "           b. list\n",
    "           c. float \n",
    "           d. tuple"
   ]
  },
  {
   "cell_type": "raw",
   "id": "a0bec103-3b89-4199-9efc-cd37571a919a",
   "metadata": {},
   "source": [
   

    "Ans: my_string= \"Hello World\"\n",
    "     my_list= [1,2,3,3.2,True,False,3+6j]\n",
    "     my_float= 3.14\n",
    "     my_tuple= (4,3,4,[1,2,'Hello World',False],'Pwskills')"
   ]
  },
  {
   "cell_type": "markdown",
   "id": "314acdc3-43fe-4100-bd04-ac7e20c9eeec",
   "metadata": {},
   "source": [
    "\n",
    "\n",
    "\n",
    "#### 2. Given are some following variables containing data:\n",
    "         a. var1= ''\n",
    "         b. var2= '[DS , ML , Python]'\n",
    "         c. var3=['DS' , 'ML' , 'Python']\n",
    "         d. var4= 1"
   ]
  },
  {
   "cell_type": "raw",
   "id": "92a5794d-b3f7-4593-96ed-d975651c7855",
   "metadata": {},
   "source": [
    "Ans: (i) var1 is a string variable with an empty value.\n",
    "\n",
    "     (ii) var2 is a string variable containing three elements. The elements are enclosed in square brackets, indicating that it is a string representation of a list.\n",
    "\n",
    "    (iii) var3 is a list variable containing three elements.\n",
    "\n",
    "     (iv) var4 is an integer variable with a value of 1."
   ]
  },
  {
   "cell_type": "markdown",
   "id": "bfe34b3b-492c-42e3-8483-356453537538",
   "metadata": {},
   "source": [
    "#### 3. Explain the use of the following operators using an example:\n",
    "           (i) /\n",
    "           (ii) %\n",
    "           (iii) // \n",
    "           (iv) **"
   ]
  },
  {
   "cell_type": "raw",
   "id": "cfe50f0a-4af6-49cb-8a34-1ef666c8439c",
   "metadata": {},
   "source": [
    "Ans: (i) The `/` operator is the division operator. It performs division between two numbers and returns the quotient as a floating-point number.\n",
    "\n",
    "Example:\n",
    "a = 10\n",
    "b = 3\n",
    "result = a / b\n",
    "print(result)\n",
    "\n",
    "output: 3.33\n",
    "\n",
    "(ii) The `%` operator is the modulo operator. It returns the remainder of the division between two numbers.\n",
    "\n",
    "Example:\n",
    "a = 10\n",
    "b = 3\n",
    "result = a % b\n",
    "print(result)\n",
    "\n",
    "output: 1\n",
    "\n",
    "(iii) The `//` operator is the floor division operator. It performs division between two numbers and returns the quotient as an integer.\n",
    "\n",
    "Example:\n",
    "a = 10\n",
    "b = 3\n",
    "result = a // b\n",
    "print(result)\n",
    "\n",
    "Output: 3\n",
    "\n",
    "(iv) The `**` operator is the exponentiation operator. It raises a number to the power of another number.\n",
    "\n",
    "Example:\n",
    "a = 2\n",
    "b = 3\n",
    "result = a ** b\n",
    "print(result)\n",
    "\n",
    "Output: 8"
   ]
  },
  {
   "cell_type": "markdown",
   "id": "4a78d0bf-d971-4db7-9ad6-63380ae26a36",
   "metadata": {},
   "source": [
    "#### 4. Create a list of length 10 of your choice containing multiple types of data. Using for loop print the element and its data type."
   ]
  },
  {
   "cell_type": "code",
   "execution_count": 9,
   "id": "cf8faeda-ec73-493f-b65d-2b667ee03ee2",
   "metadata": {},
   "outputs": [
    {
     "name": "stdout",
     "output_type": "stream",
     "text": [
      "1 <class 'int'>\n",
      "2 <class 'int'>\n",
      "3 <class 'int'>\n",
      "4 <class 'int'>\n",
      "5 <class 'int'>\n",
      "Hello World <class 'str'>\n",
      "True <class 'bool'>\n",
      "(3+4j) <class 'complex'>\n",
      "4.34 <class 'float'>\n",
      "{1, 2, 3} <class 'set'>\n"
     ]
    }
   ],
   "source": [
    "l=[1,2,3,4,5,'Hello World',True,3+4j,4.34,{1,2,3}] \n",
    "for i in l :\n",
    "    print(i , type(i))\n",
    "        \n",
    " "
   ]
  },
  {
   "cell_type": "markdown",
   "id": "66090385-238d-4e61-91ff-714ffcf0d2a8",
   "metadata": {},
   "source": [
    "#### 5. Using a while loop, verify if the number A is purely divisible by number B and if so then how many times it can be divisible.  "
   ]
  },
  {
   "cell_type": "code",
   "execution_count": 11,
   "id": "140a6848-1d27-4c88-8af4-9941d9d0bbbb",
   "metadata": {},
   "outputs": [
    {
     "name": "stdout",
     "output_type": "stream",
     "text": [
      "Number A can be divided by number B 1 times.\n"
     ]
    }
   ],
   "source": [
    "A = 150\n",
    "B = 2\n",
    "count = 0\n",
    "\n",
    "while A % B == 0:\n",
    "    A /= B\n",
    "    count += 1\n",
    "\n",
    "print(\"Number A can be divided by number B\", count, \"times.\")\n"
   ]
  },
  {
   "cell_type": "markdown",
   "id": "ce699916-0338-40ec-9b21-34b7f70d8824",
   "metadata": {},
   "source": [
    "#### 6. Create a list containing 25 int type data. Using for loop and if-else condition print if the element is divisible by 3 or not."
   ]
  },
  {
   "cell_type": "code",
   "execution_count": 20,
   "id": "76da3ccf-65dc-4fbe-a0cc-ebe814055730",
   "metadata": {},
   "outputs": [
    {
     "name": "stdout",
     "output_type": "stream",
     "text": [
      "12 is divisible by 3.\n",
      "7 is not divisible by 3.\n",
      "36 is divisible by 3.\n",
      "45 is divisible by 3.\n",
      "22 is not divisible by 3.\n",
      "9 is divisible by 3.\n",
      "15 is divisible by 3.\n",
      "27 is divisible by 3.\n",
      "18 is divisible by 3.\n",
      "33 is divisible by 3.\n",
      "4 is not divisible by 3.\n",
      "19 is not divisible by 3.\n",
      "30 is divisible by 3.\n",
      "8 is not divisible by 3.\n",
      "10 is not divisible by 3.\n",
      "21 is divisible by 3.\n",
      "13 is not divisible by 3.\n",
      "42 is divisible by 3.\n",
      "6 is divisible by 3.\n",
      "25 is not divisible by 3.\n",
      "16 is not divisible by 3.\n",
      "3 is divisible by 3.\n",
      "28 is not divisible by 3.\n",
      "39 is divisible by 3.\n",
      "17 is not divisible by 3.\n"
     ]
    }
   ],
   "source": [
    "my_list = [12, 7, 36, 45, 22, 9, 15, 27, 18, 33, 4, 19, 30, 8, 10, 21, 13, 42, 6, 25, 16, 3, 28, 39, 17]\n",
    "\n",
    "for i in my_list:\n",
    "    if i % 3 == 0:\n",
    "        print(i, \"is divisible by 3.\")\n",
    "    else:\n",
    "        print(i, \"is not divisible by 3.\")\n"
   ]
  },
  {
   "cell_type": "markdown",
   "id": "b9a54872-b284-4e7b-a6e9-48e414437cff",
   "metadata": {},
   "source": [
    "#### 7. What do you understand about mutable and immutable data types? Give examples for both showing this property."
   ]
  },
  {
   "cell_type": "markdown",
   "id": "1cfd65c1-c983-4569-8daf-27ed00f8d521",
   "metadata": {},
   "source": [
    "Ans:  Mutable Data Types:\n",
    "     Mutable data types, on the other hand, are those that can be modified after they are created. Changes made to a mutable object will directly affect the object itself without creating a new object. Examples of mutable data types        in Python include lists, dictionaries, and sets. Example :-"
   ]
  },
  {
   "cell_type": "code",
   "execution_count": 24,
   "id": "08c8ad5e-2bd2-4673-b491-4c4e44aa8812",
   "metadata": {},
   "outputs": [
    {
     "name": "stdout",
     "output_type": "stream",
     "text": [
      "[1, 2, 3.14, True, 'Harsh']\n",
      "{'Name': 'John', 'Age': 35}\n",
      "{1, 2, 3, 4}\n"
     ]
    }
   ],
   "source": [
    "my_list= [1,2,3.14,True]\n",
    "my_dict= {\"Name\": \"John\" , \"Age\":25}\n",
    "my_set= {1,2,3}\n",
    "my_list.append('Harsh')\n",
    "my_dict[\"Age\"]=35\n",
    "my_set.add(4)\n",
    "print(my_list)\n",
    "print(my_dict)\n",
    "print(my_set)"
   ]
  },
  {
   "cell_type": "markdown",
   "id": "2ce51fab-7d98-460c-9928-3dadfff73ddc",
   "metadata": {},
   "source": [
    "\n",
    "\n",
    "\n",
    "Immutable Data Types:\n",
    "Immutable data types are those whose values cannot be changed after they are created. If you want to modify an immutable object, you need to create a new object with the desired changes. Examples of immutable data types in Python include integers, floats, booleans, strings, and tuples. Example :-"
   ]
  },
  {
   "cell_type": "code",
   "execution_count": 30,
   "id": "93ecaf5a-6194-4d89-8dea-78314542388b",
   "metadata": {},
   "outputs": [
    {
     "name": "stdout",
     "output_type": "stream",
     "text": [
      "10\n",
      "Hello World\n",
      "(1, 2, 3, 4)\n"
     ]
    }
   ],
   "source": [
    "# Immutable data types\n",
    "a = 5\n",
    "b = 'Hello'\n",
    "c = (1, 2, 3)\n",
    "a = 10  \n",
    "b = b + ' World'  \n",
    "c = c + (4,)  \n",
    "\n",
    "print(a)  # Output: 10\n",
    "print(b)  # Output: Hello World\n",
    "print(c)  # Output: (1, 2, 3, 4)\n"
   ]
  },
  {
   "cell_type": "code",
   "execution_count": null,
   "id": "c397cfee-8e60-4a1c-9b83-2dade4a4f5c3",
   "metadata": {},
   "outputs": [],
   "source": []
  }
 ],
 "metadata": {
  "kernelspec": {
   "display_name": "Python 3 (ipykernel)",
   "language": "python",
   "name": "python3"
  },
  "language_info": {
   "codemirror_mode": {
    "name": "ipython",
    "version": 3
   },
   "file_extension": ".py",
   "mimetype": "text/x-python",
   "name": "python",
   "nbconvert_exporter": "python",
   "pygments_lexer": "ipython3",
   "version": "3.10.8"
  }
 },
 "nbformat": 4,
 "nbformat_minor": 5
}
